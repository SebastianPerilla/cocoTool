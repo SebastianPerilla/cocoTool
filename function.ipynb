{
 "cells": [
  {
   "cell_type": "code",
   "execution_count": 109,
   "metadata": {},
   "outputs": [],
   "source": [
    "import pandas as pd\n",
    "import numpy as np"
   ]
  },
  {
   "cell_type": "code",
   "execution_count": 110,
   "metadata": {},
   "outputs": [
    {
     "data": {
      "text/plain": [
       "['EASTER 2026', 'VDAY 26', 'fall 25']"
      ]
     },
     "execution_count": 110,
     "metadata": {},
     "output_type": "execute_result"
    }
   ],
   "source": [
    "dataPath = 'HEINENS.xlsx'\n",
    "df = pd.ExcelFile(dataPath)\n",
    "df.sheet_names"
   ]
  },
  {
   "cell_type": "code",
   "execution_count": 111,
   "metadata": {},
   "outputs": [
    {
     "data": {
      "text/plain": [
       "Index(['PRODUCT', 'FARM', 'SIZE', 'BOX/\\n TYPE', 'PRECIO/\\nFINCA',\n",
       "       'TALLOS X BUNCH', 'CAPUCHON ', 'PRECIO/\\n BQT', 'FLETE\\n (MIAMI)',\n",
       "       'WET\\n PACK', 'FREIGHT ', 'COSTO\\n TOTAL', 'PRICE \\nCLIENTE',\n",
       "       'UNIDADES', 'BUNCH \\nX CAJA', 'TOTAL\\n CAJA', 'TALLOS \\nCAJA', 'Length',\n",
       "       'Width', 'Height', 'volume', 'Rounded Volume', 'Precio Kilo',\n",
       "       'Precio Caja', 'EXTRAS', 'Duties', 'Flete /Bqt', 'PACK ',\n",
       "       'WET PACK COMPANY', 'Ht', 'Wd', 'Dp', 'CUBE ', 'PRICE ',\n",
       "       'PRICE\\n/BUNCH', 'TRANSP\\n/PALL', 'WP/Bqt', 'Cube Wet Pack',\n",
       "       'Price Per Cube', 'Price Per Piece', 'Fuel', 'Price Per Box',\n",
       "       'F.EEUU/ Bqt'],\n",
       "      dtype='object', name=1)"
      ]
     },
     "execution_count": 111,
     "metadata": {},
     "output_type": "execute_result"
    }
   ],
   "source": [
    "sheetName = 'EASTER 2026'\n",
    "df = pd.read_excel(dataPath, sheet_name=sheetName)\n",
    "\n",
    "# Basic Data Analysis of moving the Column Names\n",
    "df = df.drop(columns=df.columns[0])\n",
    "\n",
    "header_row_idx = df[df.iloc[:, 0] == \"PRODUCT\"].index[0]\n",
    "df.columns = df.iloc[header_row_idx]\n",
    "df = df.drop(range(header_row_idx + 1)).reset_index(drop=True)\n",
    "df.columns"
   ]
  },
  {
   "cell_type": "code",
   "execution_count": 112,
   "metadata": {},
   "outputs": [
    {
     "data": {
      "text/plain": [
       "Index(['PRODUCT', 'FARM', 'SIZE', 'BOX/_TYPE', 'PRECIO/_FINCA',\n",
       "       'TALLOS_X_BUNCH', 'CAPUCHON', 'PRECIO/_BQT', 'FLETE_(MIAMI)',\n",
       "       'WET_PACK', 'FREIGHT', 'COSTO_TOTAL', 'PRICE_CLIENTE', 'UNIDADES',\n",
       "       'BUNCH_X_CAJA', 'TOTAL_CAJA', 'TALLOS_CAJA', 'LENGTH', 'WIDTH',\n",
       "       'HEIGHT', 'VOLUME', 'ROUNDED_VOLUME', 'PRECIO_KILO', 'PRECIO_CAJA',\n",
       "       'EXTRAS', 'DUTIES', 'FLETE_/BQT', 'PACK', 'WET_PACK_COMPANY', 'HT',\n",
       "       'WD', 'DP', 'CUBE', 'PRICE', 'PRICE_/BUNCH', 'TRANSP_/PALL', 'WP/BQT',\n",
       "       'CUBE_WET_PACK', 'PRICE_PER_CUBE', 'PRICE_PER_PIECE', 'FUEL',\n",
       "       'PRICE_PER_BOX', 'F.EEUU/_BQT'],\n",
       "      dtype='object', name=1)"
      ]
     },
     "execution_count": 112,
     "metadata": {},
     "output_type": "execute_result"
    }
   ],
   "source": [
    "def normalize_cols(cols: pd.Index) -> pd.Index:\n",
    "    \"\"\"Collapse whitespace/newlines, trim, upper-case, replace spaces with underscores.\"\"\"\n",
    "    return (\n",
    "        cols.astype(str)\n",
    "            .str.replace(r\"\\s+\", \" \", regex=True)\n",
    "            .str.strip()\n",
    "            .str.upper()\n",
    "            .str.replace(\" \", \"_\")\n",
    "    )\n",
    "df.columns = normalize_cols(df.columns)  # e.g., \"COSTO\\n TOTAL\" -> \"COSTO_TOTAL\", \"PRICE \\nCLIENTE\" -> \"PRICE_CLIENTE\"\n",
    "\n",
    "df.columns"
   ]
  },
  {
   "cell_type": "code",
   "execution_count": 113,
   "metadata": {},
   "outputs": [
    {
     "name": "stdout",
     "output_type": "stream",
     "text": [
      "9.50636997\n",
      "17.59\n"
     ]
    },
    {
     "data": {
      "application/vnd.microsoft.datawrangler.viewer.v0+json": {
       "columns": [
        {
         "name": "index",
         "rawType": "int64",
         "type": "integer"
        },
        {
         "name": "FUEL",
         "rawType": "float64",
         "type": "float"
        }
       ],
       "ref": "df49643e-84cb-4c10-a22d-111acf0ca702",
       "rows": [
        [
         "0",
         "0.45"
        ],
        [
         "1",
         "0.45"
        ],
        [
         "2",
         "0.44"
        ],
        [
         "3",
         "0.45"
        ],
        [
         "4",
         "0.94"
        ],
        [
         "5",
         "0.94"
        ],
        [
         "6",
         "0.86"
        ],
        [
         "7",
         "0.55"
        ],
        [
         "8",
         "0.94"
        ],
        [
         "9",
         "0.94"
        ],
        [
         "10",
         "0.41"
        ],
        [
         "11",
         "0.41"
        ],
        [
         "12",
         "0.45"
        ],
        [
         "13",
         "0.45"
        ],
        [
         "14",
         "0.45"
        ],
        [
         "15",
         "0.45"
        ],
        [
         "16",
         "0.45"
        ],
        [
         "17",
         "0.45"
        ],
        [
         "18",
         "0.45"
        ],
        [
         "19",
         "0.45"
        ]
       ],
       "shape": {
        "columns": 1,
        "rows": 20
       }
      },
      "text/plain": [
       "0     0.45\n",
       "1     0.45\n",
       "2     0.44\n",
       "3     0.45\n",
       "4     0.94\n",
       "5     0.94\n",
       "6     0.86\n",
       "7     0.55\n",
       "8     0.94\n",
       "9     0.94\n",
       "10    0.41\n",
       "11    0.41\n",
       "12    0.45\n",
       "13    0.45\n",
       "14    0.45\n",
       "15    0.45\n",
       "16    0.45\n",
       "17    0.45\n",
       "18    0.45\n",
       "19    0.45\n",
       "Name: FUEL, dtype: float64"
      ]
     },
     "execution_count": 113,
     "metadata": {},
     "output_type": "execute_result"
    }
   ],
   "source": [
    "df['FARM'] = df['FARM'].str.upper()\n",
    "\n",
    "costoTotal = sum([df['PRECIO/_FINCA'],df['FLETE_(MIAMI)'],df['WET_PACK'],df['FREIGHT']])\n",
    "\n",
    "margin = 0.15\n",
    "\n",
    "formulaMargen = (1/ -1 * (-1 - 0.85)) - 1\n",
    "\n",
    "df['PRICE_CLIENTE'] = costoTotal * (1 + formulaMargen)\n",
    "\n",
    "df['PRICE_CLIENTE'] = pd.to_numeric(df['PRICE_CLIENTE'])\n",
    "df['PRICE_CLIENTE'] = df['PRICE_CLIENTE'].round(2)\n",
    "print(costoTotal[0])\n",
    "print(df['PRICE_CLIENTE'][0])\n",
    "pd.to_numeric(df['FUEL']).round(2)\n"
   ]
  },
  {
   "cell_type": "code",
   "execution_count": null,
   "metadata": {},
   "outputs": [
    {
     "data": {
      "application/vnd.microsoft.datawrangler.viewer.v0+json": {
       "columns": [
        {
         "name": "index",
         "rawType": "int64",
         "type": "integer"
        },
        {
         "name": "FUEL",
         "rawType": "object",
         "type": "unknown"
        }
       ],
       "ref": "bcaf1713-28d6-4976-a922-b84e5ed8d831",
       "rows": [
        [
         "0",
         "0.4489821972"
        ],
        [
         "1",
         "0.4489821972"
        ],
        [
         "2",
         "0.4413605858"
        ],
        [
         "3",
         "0.4489821972"
        ],
        [
         "4",
         "0.9446666667"
        ],
        [
         "5",
         "0.9446666667"
        ],
        [
         "6",
         "0.8593020385"
        ],
        [
         "7",
         "0.5456380868"
        ],
        [
         "8",
         "0.9446666667"
        ],
        [
         "9",
         "0.9446666667"
        ],
        [
         "10",
         "0.4098348297"
        ],
        [
         "11",
         "0.4098348297"
        ],
        [
         "12",
         "0.4489821972"
        ],
        [
         "13",
         "0.4489821972"
        ],
        [
         "14",
         "0.4489821972"
        ],
        [
         "15",
         "0.4489821972"
        ],
        [
         "16",
         "0.4489821972"
        ],
        [
         "17",
         "0.4489821972"
        ],
        [
         "18",
         "0.4489821972"
        ],
        [
         "19",
         "0.4489821972"
        ]
       ],
       "shape": {
        "columns": 1,
        "rows": 20
       }
      },
      "text/plain": [
       "0     0.448982\n",
       "1     0.448982\n",
       "2     0.441361\n",
       "3     0.448982\n",
       "4     0.944667\n",
       "5     0.944667\n",
       "6     0.859302\n",
       "7     0.545638\n",
       "8     0.944667\n",
       "9     0.944667\n",
       "10    0.409835\n",
       "11    0.409835\n",
       "12    0.448982\n",
       "13    0.448982\n",
       "14    0.448982\n",
       "15    0.448982\n",
       "16    0.448982\n",
       "17    0.448982\n",
       "18    0.448982\n",
       "19    0.448982\n",
       "Name: FUEL, dtype: object"
      ]
     },
     "execution_count": 114,
     "metadata": {},
     "output_type": "execute_result"
    }
   ],
   "source": [
    "# Flete Miami\n",
    "\n",
    "# Volume\n",
    "length = df['LENGTH']\n",
    "width = df['WIDTH']\n",
    "height = df['HEIGHT']\n",
    "ratioFlete = 6000\n",
    "\n",
    "df['VOLUME'] = (length * width * height) / ratioFlete  # Volume\n",
    "df['ROUNDED_VOLUME'] = np.ceil(df['VOLUME'])    # Rounded Volume\n",
    "\n",
    "roundedVol = df['ROUNDED_VOLUME']\n",
    "\n",
    "# Precio Caja\n",
    "df['PRECIO_CAJA'] = roundedVol * df['PRECIO_KILO']\n",
    "\n",
    "# Duties\n",
    "dutyMultiplier = 0.218\n",
    "precioBQT = df['PRECIO/_BQT']\n",
    "bunchCaja = df['BUNCH_X_CAJA']\n",
    "df['DUTIES'] = ( precioBQT * bunchCaja) * dutyMultiplier\n",
    "\n",
    "\n",
    "#FLETE\n",
    "precioKilo = df['PRECIO_KILO']\n",
    "precioCaja = roundedVol * precioKilo\n",
    "extrasBuffer = df['EXTRAS']\n",
    "duties = df['DUTIES']\n",
    "totalCaja = df['TOTAL_CAJA']\n",
    "df['FLETE_/BQT'] = pd.to_numeric(((precioCaja + extrasBuffer + duties) / totalCaja)).round(2)\n",
    "df['FUEL']"
   ]
  },
  {
   "cell_type": "code",
   "execution_count": 115,
   "metadata": {},
   "outputs": [
    {
     "data": {
      "application/vnd.microsoft.datawrangler.viewer.v0+json": {
       "columns": [
        {
         "name": "index",
         "rawType": "int64",
         "type": "integer"
        },
        {
         "name": "CUBE",
         "rawType": "float64",
         "type": "float"
        }
       ],
       "ref": "3213d5de-2256-44d5-90d7-40b7081f1406",
       "rows": [
        [
         "0",
         "1.37"
        ],
        [
         "1",
         "1.37"
        ],
        [
         "2",
         "1.35"
        ],
        [
         "3",
         "1.37"
        ],
        [
         "4",
         "1.67"
        ],
        [
         "5",
         "1.67"
        ],
        [
         "6",
         "2.63"
        ],
        [
         "7",
         "1.67"
        ],
        [
         "8",
         "1.37"
        ],
        [
         "9",
         "1.37"
        ],
        [
         "10",
         "1.25"
        ],
        [
         "11",
         "1.25"
        ],
        [
         "12",
         "1.37"
        ],
        [
         "13",
         "1.37"
        ],
        [
         "14",
         "1.37"
        ],
        [
         "15",
         "1.37"
        ],
        [
         "16",
         "1.37"
        ],
        [
         "17",
         "1.37"
        ],
        [
         "18",
         "1.37"
        ],
        [
         "19",
         "1.37"
        ]
       ],
       "shape": {
        "columns": 1,
        "rows": 20
       }
      },
      "text/plain": [
       "0     1.37\n",
       "1     1.37\n",
       "2     1.35\n",
       "3     1.37\n",
       "4     1.67\n",
       "5     1.67\n",
       "6     2.63\n",
       "7     1.67\n",
       "8     1.37\n",
       "9     1.37\n",
       "10    1.25\n",
       "11    1.25\n",
       "12    1.37\n",
       "13    1.37\n",
       "14    1.37\n",
       "15    1.37\n",
       "16    1.37\n",
       "17    1.37\n",
       "18    1.37\n",
       "19    1.37\n",
       "Name: CUBE, dtype: float64"
      ]
     },
     "execution_count": 115,
     "metadata": {},
     "output_type": "execute_result"
    }
   ],
   "source": [
    "# WET PACKS\n",
    "\n",
    "# HT\n",
    "wetPackConst = 2.54\n",
    "df['HT'] = df['LENGTH'] / wetPackConst\n",
    "\n",
    "# WD\n",
    "df['WD'] = df['WIDTH'] / wetPackConst\n",
    "\n",
    "# DP\n",
    "df['DP'] = df['HEIGHT'] / wetPackConst\n",
    "\n",
    "# CUBE\n",
    "cubeConst = 1728\n",
    "ht = df['HT']\n",
    "wd = df['WD']\n",
    "dp = df['DP']\n",
    "df['CUBE'] = pd.to_numeric(((ht * wd * dp) / cubeConst)).round(2)\n",
    "\n",
    "# Price Bunch\n",
    "wetPackPrice = df['PRICE']\n",
    "wetPackSize = df['PACK']\n",
    "\n",
    "df['PRICE_/BUNCH'] = pd.to_numeric(( wetPackPrice/ wetPackSize)).round(2)\n",
    "\n",
    "\n",
    "# WP/BQT\n",
    "priceBunch = df['PRICE_/BUNCH']\n",
    "transportPallet = df['TRANSP_/PALL']\n",
    "df['WP/BQT'] = priceBunch + transportPallet\n",
    "df['CUBE']"
   ]
  },
  {
   "cell_type": "code",
   "execution_count": 116,
   "metadata": {},
   "outputs": [
    {
     "data": {
      "application/vnd.microsoft.datawrangler.viewer.v0+json": {
       "columns": [
        {
         "name": "index",
         "rawType": "int64",
         "type": "integer"
        },
        {
         "name": "F.EEUU/_BQT",
         "rawType": "float64",
         "type": "float"
        }
       ],
       "ref": "c81c7b51-35c1-480f-97ba-f4477f7d203b",
       "rows": [
        [
         "0",
         "0.43"
        ],
        [
         "1",
         "0.43"
        ],
        [
         "2",
         "0.42"
        ],
        [
         "3",
         "0.31"
        ],
        [
         "4",
         "0.54"
        ],
        [
         "5",
         "0.54"
        ],
        [
         "6",
         "0.93"
        ],
        [
         "7",
         "0.54"
        ],
        [
         "8",
         "0.36"
        ],
        [
         "9",
         "0.43"
        ],
        [
         "10",
         "0.39"
        ],
        [
         "11",
         "0.28"
        ],
        [
         "12",
         "0.36"
        ],
        [
         "13",
         "0.48"
        ],
        [
         "14",
         "0.54"
        ],
        [
         "15",
         "0.72"
        ],
        [
         "16",
         "0.72"
        ],
        [
         "17",
         "0.72"
        ],
        [
         "18",
         "0.72"
        ],
        [
         "19",
         "0.72"
        ]
       ],
       "shape": {
        "columns": 1,
        "rows": 20
       }
      },
      "text/plain": [
       "0     0.43\n",
       "1     0.43\n",
       "2     0.42\n",
       "3     0.31\n",
       "4     0.54\n",
       "5     0.54\n",
       "6     0.93\n",
       "7     0.54\n",
       "8     0.36\n",
       "9     0.43\n",
       "10    0.39\n",
       "11    0.28\n",
       "12    0.36\n",
       "13    0.48\n",
       "14    0.54\n",
       "15    0.72\n",
       "16    0.72\n",
       "17    0.72\n",
       "18    0.72\n",
       "19    0.72\n",
       "Name: F.EEUU/_BQT, dtype: float64"
      ]
     },
     "execution_count": 116,
     "metadata": {},
     "output_type": "execute_result"
    }
   ],
   "source": [
    "# Freight\n",
    "cube = df['CUBE']\n",
    "df['CUBE_WET_PACK'] = cube.round(2)\n",
    "\n",
    "# Price Per Piece\n",
    "cubeWetPack = pd.to_numeric(df['CUBE_WET_PACK'])\n",
    "pricePerCube = 2.18\n",
    "pricePerPiece = 0.50\n",
    "fuelConst = 0.30\n",
    "df['FUEL'] = ((pricePerCube * pricePerPiece * cubeWetPack) * fuelConst).round(2)\n",
    "\n",
    "\n",
    "\n",
    "# Price Per Box\n",
    "fuel = df['FUEL']\n",
    "\n",
    "df['PRICE_PER_BOX'] = pd.to_numeric((cubeWetPack * (pricePerCube + pricePerPiece + fuel))).round(2)\n",
    "df['PRICE_PER_BOX']\n",
    "\n",
    "# FEEUU / BQT\n",
    "packs = df['PACK']\n",
    "pricePerBox = df['PRICE_PER_BOX']\n",
    "df['F.EEUU/_BQT'] = pd.to_numeric((pricePerBox / packs)).round(2)\n",
    "df['F.EEUU/_BQT']"
   ]
  },
  {
   "cell_type": "code",
   "execution_count": 117,
   "metadata": {},
   "outputs": [
    {
     "data": {
      "text/plain": [
       "Index(['PRODUCT', 'FARM', 'SIZE', 'BOX/_TYPE', 'PRECIO/_FINCA',\n",
       "       'TALLOS_X_BUNCH', 'CAPUCHON', 'PRECIO/_BQT', 'FLETE_(MIAMI)',\n",
       "       'WET_PACK', 'FREIGHT', 'COSTO_TOTAL', 'PRICE_CLIENTE', 'UNIDADES',\n",
       "       'BUNCH_X_CAJA', 'TOTAL_CAJA', 'TALLOS_CAJA', 'LENGTH', 'WIDTH',\n",
       "       'HEIGHT', 'VOLUME', 'ROUNDED_VOLUME', 'PRECIO_KILO', 'PRECIO_CAJA',\n",
       "       'EXTRAS', 'DUTIES', 'FLETE_/BQT', 'PACK', 'WET_PACK_COMPANY', 'HT',\n",
       "       'WD', 'DP', 'CUBE', 'PRICE', 'PRICE_/BUNCH', 'TRANSP_/PALL', 'WP/BQT',\n",
       "       'CUBE_WET_PACK', 'PRICE_PER_CUBE', 'PRICE_PER_PIECE', 'FUEL',\n",
       "       'PRICE_PER_BOX', 'F.EEUU/_BQT'],\n",
       "      dtype='object', name=1)"
      ]
     },
     "execution_count": 117,
     "metadata": {},
     "output_type": "execute_result"
    }
   ],
   "source": [
    "df.columns"
   ]
  }
 ],
 "metadata": {
  "kernelspec": {
   "display_name": ".venv",
   "language": "python",
   "name": "python3"
  },
  "language_info": {
   "codemirror_mode": {
    "name": "ipython",
    "version": 3
   },
   "file_extension": ".py",
   "mimetype": "text/x-python",
   "name": "python",
   "nbconvert_exporter": "python",
   "pygments_lexer": "ipython3",
   "version": "3.12.3"
  }
 },
 "nbformat": 4,
 "nbformat_minor": 2
}
