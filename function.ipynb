{
 "cells": [
  {
   "cell_type": "code",
   "execution_count": 13,
   "metadata": {},
   "outputs": [],
   "source": [
    "import pandas as pd\n",
    "import numpy as np"
   ]
  },
  {
   "cell_type": "code",
   "execution_count": 14,
   "metadata": {},
   "outputs": [
    {
     "data": {
      "text/plain": [
       "['EASTER 2026', 'VDAY 26', 'fall 25']"
      ]
     },
     "execution_count": 14,
     "metadata": {},
     "output_type": "execute_result"
    }
   ],
   "source": [
    "dataPath = 'HEINENS.xlsx'\n",
    "df = pd.ExcelFile(dataPath)\n",
    "df.sheet_names"
   ]
  },
  {
   "cell_type": "code",
   "execution_count": null,
   "metadata": {},
   "outputs": [
    {
     "ename": "IndexError",
     "evalue": "index 1 is out of bounds for axis 0 with size 1",
     "output_type": "error",
     "traceback": [
      "\u001b[31m---------------------------------------------------------------------------\u001b[39m",
      "\u001b[31mIndexError\u001b[39m                                Traceback (most recent call last)",
      "\u001b[36mCell\u001b[39m\u001b[36m \u001b[39m\u001b[32mIn[15]\u001b[39m\u001b[32m, line 7\u001b[39m\n\u001b[32m      4\u001b[39m \u001b[38;5;66;03m# Basic Data Analysis of moving the Column Names\u001b[39;00m\n\u001b[32m      5\u001b[39m df = df.drop(columns=df.columns[\u001b[32m0\u001b[39m])\n\u001b[32m----> \u001b[39m\u001b[32m7\u001b[39m header_row_idx = \u001b[43mdf\u001b[49m\u001b[43m[\u001b[49m\u001b[43mdf\u001b[49m\u001b[43m.\u001b[49m\u001b[43miloc\u001b[49m\u001b[43m[\u001b[49m\u001b[43m:\u001b[49m\u001b[43m,\u001b[49m\u001b[43m \u001b[49m\u001b[32;43m0\u001b[39;49m\u001b[43m]\u001b[49m\u001b[43m \u001b[49m\u001b[43m==\u001b[49m\u001b[43m \u001b[49m\u001b[33;43m\"\u001b[39;49m\u001b[33;43mPRODUCT\u001b[39;49m\u001b[33;43m\"\u001b[39;49m\u001b[43m]\u001b[49m\u001b[43m.\u001b[49m\u001b[43mindex\u001b[49m\u001b[43m[\u001b[49m\u001b[32;43m1\u001b[39;49m\u001b[43m]\u001b[49m\n\u001b[32m      9\u001b[39m df.columns = df.iloc[header_row_idx]\n\u001b[32m     10\u001b[39m df = df.drop(\u001b[38;5;28mrange\u001b[39m(header_row_idx + \u001b[32m1\u001b[39m)).reset_index(drop=\u001b[38;5;28;01mTrue\u001b[39;00m)\n",
      "\u001b[36mFile \u001b[39m\u001b[32m~/Desktop/dev/personal/cocoTool/.venv/lib/python3.12/site-packages/pandas/core/indexes/base.py:5401\u001b[39m, in \u001b[36mIndex.__getitem__\u001b[39m\u001b[34m(self, key)\u001b[39m\n\u001b[32m   5398\u001b[39m \u001b[38;5;28;01mif\u001b[39;00m is_integer(key) \u001b[38;5;129;01mor\u001b[39;00m is_float(key):\n\u001b[32m   5399\u001b[39m     \u001b[38;5;66;03m# GH#44051 exclude bool, which would return a 2d ndarray\u001b[39;00m\n\u001b[32m   5400\u001b[39m     key = com.cast_scalar_indexer(key)\n\u001b[32m-> \u001b[39m\u001b[32m5401\u001b[39m     \u001b[38;5;28;01mreturn\u001b[39;00m \u001b[43mgetitem\u001b[49m\u001b[43m(\u001b[49m\u001b[43mkey\u001b[49m\u001b[43m)\u001b[49m\n\u001b[32m   5403\u001b[39m \u001b[38;5;28;01mif\u001b[39;00m \u001b[38;5;28misinstance\u001b[39m(key, \u001b[38;5;28mslice\u001b[39m):\n\u001b[32m   5404\u001b[39m     \u001b[38;5;66;03m# This case is separated from the conditional above to avoid\u001b[39;00m\n\u001b[32m   5405\u001b[39m     \u001b[38;5;66;03m# pessimization com.is_bool_indexer and ndim checks.\u001b[39;00m\n\u001b[32m   5406\u001b[39m     \u001b[38;5;28;01mreturn\u001b[39;00m \u001b[38;5;28mself\u001b[39m._getitem_slice(key)\n",
      "\u001b[31mIndexError\u001b[39m: index 1 is out of bounds for axis 0 with size 1"
     ]
    }
   ],
   "source": [
    "sheetName = 'EASTER 2026'\n",
    "df = pd.read_excel(dataPath, sheet_name=sheetName)\n",
    "\n",
    "# Basic Data Analysis of moving the Column Names\n",
    "df = df.drop(columns=df.columns[0])\n",
    "\n",
    "header_row_idx = df[df.iloc[:, 0] == \"PRODUCT\"].index[0]\n",
    "\n",
    "df.columns = df.iloc[header_row_idx]\n",
    "df = df.drop(range(header_row_idx + 1)).reset_index(drop=True)\n",
    "df"
   ]
  },
  {
   "cell_type": "code",
   "execution_count": null,
   "metadata": {},
   "outputs": [
    {
     "ename": "NameError",
     "evalue": "name 'df' is not defined",
     "output_type": "error",
     "traceback": [
      "\u001b[31m---------------------------------------------------------------------------\u001b[39m",
      "\u001b[31mNameError\u001b[39m                                 Traceback (most recent call last)",
      "\u001b[36mCell\u001b[39m\u001b[36m \u001b[39m\u001b[32mIn[5]\u001b[39m\u001b[32m, line 10\u001b[39m\n\u001b[32m      2\u001b[39m \u001b[38;5;250m    \u001b[39m\u001b[33;03m\"\"\"Collapse whitespace/newlines, trim, upper-case, replace spaces with underscores.\"\"\"\u001b[39;00m\n\u001b[32m      3\u001b[39m     \u001b[38;5;28;01mreturn\u001b[39;00m (\n\u001b[32m      4\u001b[39m         cols.astype(\u001b[38;5;28mstr\u001b[39m)\n\u001b[32m      5\u001b[39m             .str.replace(\u001b[33mr\u001b[39m\u001b[33m\"\u001b[39m\u001b[33m\\\u001b[39m\u001b[33ms+\u001b[39m\u001b[33m\"\u001b[39m, \u001b[33m\"\u001b[39m\u001b[33m \u001b[39m\u001b[33m\"\u001b[39m, regex=\u001b[38;5;28;01mTrue\u001b[39;00m)\n\u001b[32m   (...)\u001b[39m\u001b[32m      8\u001b[39m             .str.replace(\u001b[33m\"\u001b[39m\u001b[33m \u001b[39m\u001b[33m\"\u001b[39m, \u001b[33m\"\u001b[39m\u001b[33m_\u001b[39m\u001b[33m\"\u001b[39m)\n\u001b[32m      9\u001b[39m     )\n\u001b[32m---> \u001b[39m\u001b[32m10\u001b[39m df.columns = normalize_cols(\u001b[43mdf\u001b[49m.columns)  \u001b[38;5;66;03m# e.g., \"COSTO\\n TOTAL\" -> \"COSTO_TOTAL\", \"PRICE \\nCLIENTE\" -> \"PRICE_CLIENTE\"\u001b[39;00m\n\u001b[32m     11\u001b[39m df.columns\n",
      "\u001b[31mNameError\u001b[39m: name 'df' is not defined"
     ]
    }
   ],
   "source": [
    "def normalize_cols(cols: pd.Index) -> pd.Index:\n",
    "    \"\"\"Collapse whitespace/newlines, trim, upper-case, replace spaces with underscores.\"\"\"\n",
    "    return (\n",
    "        cols.astype(str)\n",
    "            .str.replace(r\"\\s+\", \" \", regex=True)\n",
    "            .str.strip()\n",
    "            .str.upper()\n",
    "            .str.replace(\" \", \"_\")\n",
    "    )\n",
    "df.columns = normalize_cols(df.columns)  # e.g., \"COSTO\\n TOTAL\" -> \"COSTO_TOTAL\", \"PRICE \\nCLIENTE\" -> \"PRICE_CLIENTE\"\n",
    "df.columns"
   ]
  },
  {
   "cell_type": "code",
   "execution_count": null,
   "metadata": {},
   "outputs": [],
   "source": [
    "# freightColumns = ['VOLUME','ROUNDED_VOLUME','BQT_FREIGHT_PRICE','TARIFF_DUTY']\n",
    "# df2 = df.drop(columns=freightColumns)\n",
    "# df2"
   ]
  },
  {
   "cell_type": "code",
   "execution_count": null,
   "metadata": {},
   "outputs": [
    {
     "name": "stdout",
     "output_type": "stream",
     "text": [
      "9.6137749625\n",
      "17.79\n"
     ]
    },
    {
     "data": {
      "application/vnd.microsoft.datawrangler.viewer.v0+json": {
       "columns": [
        {
         "name": "index",
         "rawType": "int64",
         "type": "integer"
        },
        {
         "name": "FUEL_PRICE",
         "rawType": "float64",
         "type": "float"
        }
       ],
       "ref": "e9bbccc0-540c-419d-b80b-0851b6e5ed8c",
       "rows": [
        [
         "0",
         "0.45"
        ],
        [
         "1",
         "0.45"
        ],
        [
         "2",
         "0.44"
        ],
        [
         "3",
         "0.45"
        ],
        [
         "4",
         "0.94"
        ],
        [
         "5",
         "0.94"
        ],
        [
         "6",
         "0.86"
        ],
        [
         "7",
         "0.55"
        ],
        [
         "8",
         "0.94"
        ],
        [
         "9",
         "0.94"
        ],
        [
         "10",
         "0.41"
        ],
        [
         "11",
         "0.41"
        ],
        [
         "12",
         "0.45"
        ],
        [
         "13",
         "0.45"
        ],
        [
         "14",
         "0.45"
        ],
        [
         "15",
         "0.45"
        ],
        [
         "16",
         "0.45"
        ],
        [
         "17",
         "0.45"
        ],
        [
         "18",
         "0.45"
        ],
        [
         "19",
         "0.45"
        ],
        [
         "20",
         "0.17"
        ],
        [
         "21",
         "0.45"
        ]
       ],
       "shape": {
        "columns": 1,
        "rows": 22
       }
      },
      "text/plain": [
       "0     0.45\n",
       "1     0.45\n",
       "2     0.44\n",
       "3     0.45\n",
       "4     0.94\n",
       "5     0.94\n",
       "6     0.86\n",
       "7     0.55\n",
       "8     0.94\n",
       "9     0.94\n",
       "10    0.41\n",
       "11    0.41\n",
       "12    0.45\n",
       "13    0.45\n",
       "14    0.45\n",
       "15    0.45\n",
       "16    0.45\n",
       "17    0.45\n",
       "18    0.45\n",
       "19    0.45\n",
       "20    0.17\n",
       "21    0.45\n",
       "Name: FUEL_PRICE, dtype: float64"
      ]
     },
     "execution_count": 14,
     "metadata": {},
     "output_type": "execute_result"
    }
   ],
   "source": [
    "df['FARM'] = df['FARM'].str.upper()\n",
    "\n",
    "costoTotal = sum([df['FARM_PRICE'],df['FLETE_MIAMI'],df['WET_PACK'],df['FREIGHT']])\n",
    "\n",
    "margin = 0.15\n",
    "\n",
    "formulaMargen = (1/ -1 * (-1 - 0.85)) - 1\n",
    "\n",
    "clientPrice = df['CLIENT_PRICE']\n",
    "fuelPrice = df['FUEL_PRICE']\n",
    "\n",
    "\n",
    "clientPrice = costoTotal * (1 + formulaMargen)\n",
    "\n",
    "clientPrice = pd.to_numeric(clientPrice)\n",
    "clientPrice = clientPrice.round(2)\n",
    "print(costoTotal[0])\n",
    "print(clientPrice[0])\n",
    "pd.to_numeric(fuelPrice).round(2)\n"
   ]
  },
  {
   "cell_type": "code",
   "execution_count": null,
   "metadata": {},
   "outputs": [
    {
     "data": {
      "text/plain": [
       "Index(['PRODUCT', 'FARM', 'SIZE', 'BOX_TYPE', 'FARM_PRICE', 'STEM_BUNCH',\n",
       "       'CAP', 'BQT_PRICE', 'FLETE_MIAMI', 'WET_PACK', 'FREIGHT', 'TOTAL_COST',\n",
       "       'CLIENT_PRICE', 'UNITS', 'BUNCH_PER_BOX', 'BOX_TOTAL', 'STEMS_PER_BOX',\n",
       "       'LENGTH', 'WIDTH', 'HEIGHT', 'VOLUME', 'ROUNDED_VOLUME', 'PRICE_KILO',\n",
       "       'BOX_PRICE', 'EXTRAS', 'TARIFF_DUTY', 'BQT_FREIGHT_PRICE', 'PACK',\n",
       "       'WET_PACK_COMPANY', 'WP_HEIGHT', 'WP_WIDTH', 'WP_DEPTH', 'CUBE',\n",
       "       'WET_PACK_PRICE', 'PRICE_PER_BUNCH', 'TRANSPORTATION_PALLET_PRICE',\n",
       "       'WET_PACK_BQT_PRICE', 'CUBE_WET_PACK', 'PRICE_PER_CUBE',\n",
       "       'PRICE_PER_PIECE', 'FUEL_PRICE', 'PRICE_PER_BOX',\n",
       "       'FREIGHT_PRICE_PER_BQT_USA'],\n",
       "      dtype='object', name=1)"
      ]
     },
     "execution_count": 15,
     "metadata": {},
     "output_type": "execute_result"
    }
   ],
   "source": [
    "df.columns"
   ]
  },
  {
   "cell_type": "code",
   "execution_count": null,
   "metadata": {},
   "outputs": [
    {
     "data": {
      "application/vnd.microsoft.datawrangler.viewer.v0+json": {
       "columns": [
        {
         "name": "index",
         "rawType": "int64",
         "type": "integer"
        },
        {
         "name": "BQT_FREIGHT_PRICE",
         "rawType": "float64",
         "type": "float"
        }
       ],
       "ref": "143b166f-e6bd-4e8f-8535-c423bde6ed39",
       "rows": [
        [
         "0",
         "3.08"
        ],
        [
         "1",
         "2.09"
        ],
        [
         "2",
         "3.24"
        ],
        [
         "3",
         "3.16"
        ],
        [
         "4",
         "0.93"
        ],
        [
         "5",
         "1.19"
        ],
        [
         "6",
         "3.02"
        ],
        [
         "7",
         "4.11"
        ],
        [
         "8",
         "1.93"
        ],
        [
         "9",
         "2.15"
        ],
        [
         "10",
         "0.69"
        ],
        [
         "11",
         "1.57"
        ],
        [
         "12",
         "0.41"
        ],
        [
         "13",
         "0.31"
        ],
        [
         "14",
         "0.66"
        ],
        [
         "15",
         "0.67"
        ],
        [
         "16",
         "0.52"
        ],
        [
         "17",
         "0.59"
        ],
        [
         "18",
         "0.6"
        ],
        [
         "19",
         "0.62"
        ],
        [
         "20",
         "0.58"
        ],
        [
         "21",
         "0.62"
        ]
       ],
       "shape": {
        "columns": 1,
        "rows": 22
       }
      },
      "text/plain": [
       "0     3.08\n",
       "1     2.09\n",
       "2     3.24\n",
       "3     3.16\n",
       "4     0.93\n",
       "5     1.19\n",
       "6     3.02\n",
       "7     4.11\n",
       "8     1.93\n",
       "9     2.15\n",
       "10    0.69\n",
       "11    1.57\n",
       "12    0.41\n",
       "13    0.31\n",
       "14    0.66\n",
       "15    0.67\n",
       "16    0.52\n",
       "17    0.59\n",
       "18    0.60\n",
       "19    0.62\n",
       "20    0.58\n",
       "21    0.62\n",
       "Name: BQT_FREIGHT_PRICE, dtype: float64"
      ]
     },
     "execution_count": 16,
     "metadata": {},
     "output_type": "execute_result"
    }
   ],
   "source": [
    "from colProcessing import FreightSize\n",
    "\n",
    "ratioFleteInp = 6000.0\n",
    "dutyMultiInp = 0.218\n",
    "precioKiloInp = 1.95\n",
    "\n",
    "freightColumnsDropped = ['BQT_PRICE','FLETE_MIAMI', 'WET_PACK', 'FREIGHT' ,'TOTAL_COST','BOX_TOTAL','BOX_PRICE','TARIFF_DUTY','BQT_FREIGHT_PRICE','PACK','VOLUME','ROUNDED_VOLUME','BQT_FREIGHT_PRICE','TARIFF_DUTY', 'WP_HEIGHT', 'WP_WIDTH', 'WP_DEPTH', 'CUBE', 'PRICE_PER_BUNCH', 'WET_PACK_BQT_PRICE', 'CUBE_WET_PACK', 'FUEL_PRICE', 'PRICE_PER_BOX', 'FREIGHT_PRICE_PER_BQT_USA']\n",
    "df = df.drop(columns=freightColumnsDropped)\n",
    "\n",
    "df['BQT_PRICE'] = df['FARM_PRICE'] * df['STEM_BUNCH']\n",
    "\n",
    "freightCalc = FreightSize(dataframe=df,\n",
    "                lengthCol='LENGTH',\n",
    "                widthCol='WIDTH',\n",
    "                heightCol='HEIGHT',\n",
    "                freightRatioInput=ratioFleteInp,\n",
    "                dutyMultiplierInput=dutyMultiInp,\n",
    "                bqtPriceCol='BQT_PRICE',\n",
    "                bunchPerBoxCol='BUNCH_PER_BOX',\n",
    "                priceKiloInput=precioKiloInp,\n",
    "                extrasCol='EXTRAS',\n",
    "                boxTotalCol='BOX_TOTAL')\n",
    "\n",
    "freightCalc.boxPrice()\n",
    "\n",
    "freightCalc.freightSize()\n",
    "\n",
    "# freightCalc.freight_size(roundedVolume=freightCalc.roundedVolumeCalc(), tariffDuty= )"
   ]
  },
  {
   "cell_type": "code",
   "execution_count": null,
   "metadata": {},
   "outputs": [
    {
     "data": {
      "text/plain": [
       "Index(['PRODUCT', 'FARM', 'SIZE', 'BOX_TYPE', 'FARM_PRICE', 'STEM_BUNCH',\n",
       "       'CAP', 'CLIENT_PRICE', 'UNITS', 'BUNCH_PER_BOX', 'STEMS_PER_BOX',\n",
       "       'LENGTH', 'WIDTH', 'HEIGHT', 'PRICE_KILO', 'EXTRAS', 'WET_PACK_COMPANY',\n",
       "       'WET_PACK_PRICE', 'TRANSPORTATION_PALLET_PRICE', 'PRICE_PER_CUBE',\n",
       "       'PRICE_PER_PIECE', 'BQT_PRICE', 'ROUNDED_VOLUME', 'BOX_PRICE',\n",
       "       'TARIFF_DUTY', 'BQT_FREIGHT_PRICE'],\n",
       "      dtype='object', name=1)"
      ]
     },
     "execution_count": 17,
     "metadata": {},
     "output_type": "execute_result"
    }
   ],
   "source": [
    "df.columns"
   ]
  },
  {
   "cell_type": "code",
   "execution_count": null,
   "metadata": {},
   "outputs": [
    {
     "ename": "KeyError",
     "evalue": "'PRECIO_KILO'",
     "output_type": "error",
     "traceback": [
      "\u001b[31m---------------------------------------------------------------------------\u001b[39m",
      "\u001b[31mKeyError\u001b[39m                                  Traceback (most recent call last)",
      "\u001b[36mFile \u001b[39m\u001b[32m~/Desktop/dev/personal/cocoTool/.venv/lib/python3.12/site-packages/pandas/core/indexes/base.py:3812\u001b[39m, in \u001b[36mIndex.get_loc\u001b[39m\u001b[34m(self, key)\u001b[39m\n\u001b[32m   3811\u001b[39m \u001b[38;5;28;01mtry\u001b[39;00m:\n\u001b[32m-> \u001b[39m\u001b[32m3812\u001b[39m     \u001b[38;5;28;01mreturn\u001b[39;00m \u001b[38;5;28;43mself\u001b[39;49m\u001b[43m.\u001b[49m\u001b[43m_engine\u001b[49m\u001b[43m.\u001b[49m\u001b[43mget_loc\u001b[49m\u001b[43m(\u001b[49m\u001b[43mcasted_key\u001b[49m\u001b[43m)\u001b[49m\n\u001b[32m   3813\u001b[39m \u001b[38;5;28;01mexcept\u001b[39;00m \u001b[38;5;167;01mKeyError\u001b[39;00m \u001b[38;5;28;01mas\u001b[39;00m err:\n",
      "\u001b[36mFile \u001b[39m\u001b[32mpandas/_libs/index.pyx:167\u001b[39m, in \u001b[36mpandas._libs.index.IndexEngine.get_loc\u001b[39m\u001b[34m()\u001b[39m\n",
      "\u001b[36mFile \u001b[39m\u001b[32mpandas/_libs/index.pyx:196\u001b[39m, in \u001b[36mpandas._libs.index.IndexEngine.get_loc\u001b[39m\u001b[34m()\u001b[39m\n",
      "\u001b[36mFile \u001b[39m\u001b[32mpandas/_libs/hashtable_class_helper.pxi:7088\u001b[39m, in \u001b[36mpandas._libs.hashtable.PyObjectHashTable.get_item\u001b[39m\u001b[34m()\u001b[39m\n",
      "\u001b[36mFile \u001b[39m\u001b[32mpandas/_libs/hashtable_class_helper.pxi:7096\u001b[39m, in \u001b[36mpandas._libs.hashtable.PyObjectHashTable.get_item\u001b[39m\u001b[34m()\u001b[39m\n",
      "\u001b[31mKeyError\u001b[39m: 'PRECIO_KILO'",
      "\nThe above exception was the direct cause of the following exception:\n",
      "\u001b[31mKeyError\u001b[39m                                  Traceback (most recent call last)",
      "\u001b[36mCell\u001b[39m\u001b[36m \u001b[39m\u001b[32mIn[18]\u001b[39m\u001b[32m, line 15\u001b[39m\n\u001b[32m     12\u001b[39m roundedVol = df[\u001b[33m'\u001b[39m\u001b[33mROUNDED_VOLUME\u001b[39m\u001b[33m'\u001b[39m]\n\u001b[32m     14\u001b[39m \u001b[38;5;66;03m# Precio Caja\u001b[39;00m\n\u001b[32m---> \u001b[39m\u001b[32m15\u001b[39m df[\u001b[33m'\u001b[39m\u001b[33mPRECIO_CAJA\u001b[39m\u001b[33m'\u001b[39m] = roundedVol * \u001b[43mdf\u001b[49m\u001b[43m[\u001b[49m\u001b[33;43m'\u001b[39;49m\u001b[33;43mPRECIO_KILO\u001b[39;49m\u001b[33;43m'\u001b[39;49m\u001b[43m]\u001b[49m\n\u001b[32m     17\u001b[39m \u001b[38;5;66;03m# Duties\u001b[39;00m\n\u001b[32m     18\u001b[39m dutyMultiplier = \u001b[32m0.218\u001b[39m\n",
      "\u001b[36mFile \u001b[39m\u001b[32m~/Desktop/dev/personal/cocoTool/.venv/lib/python3.12/site-packages/pandas/core/frame.py:4113\u001b[39m, in \u001b[36mDataFrame.__getitem__\u001b[39m\u001b[34m(self, key)\u001b[39m\n\u001b[32m   4111\u001b[39m \u001b[38;5;28;01mif\u001b[39;00m \u001b[38;5;28mself\u001b[39m.columns.nlevels > \u001b[32m1\u001b[39m:\n\u001b[32m   4112\u001b[39m     \u001b[38;5;28;01mreturn\u001b[39;00m \u001b[38;5;28mself\u001b[39m._getitem_multilevel(key)\n\u001b[32m-> \u001b[39m\u001b[32m4113\u001b[39m indexer = \u001b[38;5;28;43mself\u001b[39;49m\u001b[43m.\u001b[49m\u001b[43mcolumns\u001b[49m\u001b[43m.\u001b[49m\u001b[43mget_loc\u001b[49m\u001b[43m(\u001b[49m\u001b[43mkey\u001b[49m\u001b[43m)\u001b[49m\n\u001b[32m   4114\u001b[39m \u001b[38;5;28;01mif\u001b[39;00m is_integer(indexer):\n\u001b[32m   4115\u001b[39m     indexer = [indexer]\n",
      "\u001b[36mFile \u001b[39m\u001b[32m~/Desktop/dev/personal/cocoTool/.venv/lib/python3.12/site-packages/pandas/core/indexes/base.py:3819\u001b[39m, in \u001b[36mIndex.get_loc\u001b[39m\u001b[34m(self, key)\u001b[39m\n\u001b[32m   3814\u001b[39m     \u001b[38;5;28;01mif\u001b[39;00m \u001b[38;5;28misinstance\u001b[39m(casted_key, \u001b[38;5;28mslice\u001b[39m) \u001b[38;5;129;01mor\u001b[39;00m (\n\u001b[32m   3815\u001b[39m         \u001b[38;5;28misinstance\u001b[39m(casted_key, abc.Iterable)\n\u001b[32m   3816\u001b[39m         \u001b[38;5;129;01mand\u001b[39;00m \u001b[38;5;28many\u001b[39m(\u001b[38;5;28misinstance\u001b[39m(x, \u001b[38;5;28mslice\u001b[39m) \u001b[38;5;28;01mfor\u001b[39;00m x \u001b[38;5;129;01min\u001b[39;00m casted_key)\n\u001b[32m   3817\u001b[39m     ):\n\u001b[32m   3818\u001b[39m         \u001b[38;5;28;01mraise\u001b[39;00m InvalidIndexError(key)\n\u001b[32m-> \u001b[39m\u001b[32m3819\u001b[39m     \u001b[38;5;28;01mraise\u001b[39;00m \u001b[38;5;167;01mKeyError\u001b[39;00m(key) \u001b[38;5;28;01mfrom\u001b[39;00m\u001b[38;5;250m \u001b[39m\u001b[34;01merr\u001b[39;00m\n\u001b[32m   3820\u001b[39m \u001b[38;5;28;01mexcept\u001b[39;00m \u001b[38;5;167;01mTypeError\u001b[39;00m:\n\u001b[32m   3821\u001b[39m     \u001b[38;5;66;03m# If we have a listlike key, _check_indexing_error will raise\u001b[39;00m\n\u001b[32m   3822\u001b[39m     \u001b[38;5;66;03m#  InvalidIndexError. Otherwise we fall through and re-raise\u001b[39;00m\n\u001b[32m   3823\u001b[39m     \u001b[38;5;66;03m#  the TypeError.\u001b[39;00m\n\u001b[32m   3824\u001b[39m     \u001b[38;5;28mself\u001b[39m._check_indexing_error(key)\n",
      "\u001b[31mKeyError\u001b[39m: 'PRECIO_KILO'"
     ]
    }
   ],
   "source": [
    "# Flete Miami\n",
    "\n",
    "# Volume\n",
    "length = df['LENGTH']\n",
    "width = df['WIDTH']\n",
    "height = df['HEIGHT']\n",
    "ratioFlete = 6000\n",
    "\n",
    "df['VOLUME'] = (length * width * height) / ratioFlete  # Volume\n",
    "df['ROUNDED_VOLUME'] = np.ceil(df['VOLUME'])    # Rounded Volume\n",
    "\n",
    "roundedVol = df['ROUNDED_VOLUME']\n",
    "\n",
    "# Precio Caja\n",
    "df['PRECIO_CAJA'] = roundedVol * df['PRECIO_KILO']\n",
    "\n",
    "# Duties\n",
    "dutyMultiplier = 0.218\n",
    "precioBQT = df['PRECIO/_BQT']\n",
    "bunchCaja = df['BUNCH_X_CAJA']\n",
    "df['DUTIES'] = ( precioBQT * bunchCaja) * dutyMultiplier\n",
    "\n",
    "\n",
    "#FLETE\n",
    "precioKilo = df['PRECIO_KILO']\n",
    "precioCaja = roundedVol * precioKilo\n",
    "extrasBuffer = df['EXTRAS']\n",
    "duties = df['DUTIES']\n",
    "totalCaja = df['TOTAL_CAJA']\n",
    "df['FLETE_/BQT'] = pd.to_numeric(((precioCaja + extrasBuffer + duties) / totalCaja)).round(2)\n",
    "df['FUEL']"
   ]
  },
  {
   "cell_type": "code",
   "execution_count": null,
   "metadata": {},
   "outputs": [],
   "source": [
    "# WET PACKS\n",
    "\n",
    "# HT\n",
    "wetPackConst = 2.54\n",
    "df['HT'] = df['LENGTH'] / wetPackConst\n",
    "\n",
    "# WD\n",
    "df['WD'] = df['WIDTH'] / wetPackConst\n",
    "\n",
    "# DP\n",
    "df['DP'] = df['HEIGHT'] / wetPackConst\n",
    "\n",
    "# CUBE\n",
    "cubeConst = 1728\n",
    "ht = df['HT']\n",
    "wd = df['WD']\n",
    "dp = df['DP']\n",
    "df['CUBE'] = pd.to_numeric(((ht * wd * dp) / cubeConst)).round(2)\n",
    "\n",
    "# Price Bunch\n",
    "wetPackPrice = df['PRICE']\n",
    "wetPackSize = df['PACK']\n",
    "\n",
    "df['PRICE_/BUNCH'] = pd.to_numeric(( wetPackPrice/ wetPackSize)).round(2)\n",
    "\n",
    "\n",
    "# WP/BQT\n",
    "priceBunch = df['PRICE_/BUNCH']\n",
    "transportPallet = df['TRANSP_/PALL']\n",
    "df['WP/BQT'] = priceBunch + transportPallet\n",
    "df['CUBE']"
   ]
  },
  {
   "cell_type": "code",
   "execution_count": null,
   "metadata": {},
   "outputs": [],
   "source": [
    "# Freight\n",
    "cube = df['CUBE']\n",
    "df['CUBE_WET_PACK'] = cube.round(2)\n",
    "\n",
    "# Price Per Piece\n",
    "cubeWetPack = pd.to_numeric(df['CUBE_WET_PACK'])\n",
    "pricePerCube = 2.18\n",
    "pricePerPiece = 0.50\n",
    "fuelConst = 0.30\n",
    "df['FUEL'] = ((pricePerCube * pricePerPiece * cubeWetPack) * fuelConst).round(2)\n",
    "\n",
    "\n",
    "\n",
    "# Price Per Box\n",
    "fuel = df['FUEL']\n",
    "\n",
    "df['PRICE_PER_BOX'] = pd.to_numeric((cubeWetPack * (pricePerCube + pricePerPiece + fuel))).round(2)\n",
    "df['PRICE_PER_BOX']\n",
    "\n",
    "# FEEUU / BQT\n",
    "packs = df['PACK']\n",
    "pricePerBox = df['PRICE_PER_BOX']\n",
    "df['F.EEUU/_BQT'] = pd.to_numeric((pricePerBox / packs)).round(2)\n",
    "df['F.EEUU/_BQT']"
   ]
  },
  {
   "cell_type": "code",
   "execution_count": null,
   "metadata": {},
   "outputs": [],
   "source": [
    "df.columns"
   ]
  }
 ],
 "metadata": {
  "kernelspec": {
   "display_name": ".venv",
   "language": "python",
   "name": "python3"
  },
  "language_info": {
   "codemirror_mode": {
    "name": "ipython",
    "version": 3
   },
   "file_extension": ".py",
   "mimetype": "text/x-python",
   "name": "python",
   "nbconvert_exporter": "python",
   "pygments_lexer": "ipython3",
   "version": "3.12.3"
  }
 },
 "nbformat": 4,
 "nbformat_minor": 2
}
